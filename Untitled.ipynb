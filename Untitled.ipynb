{
 "cells": [
  {
   "cell_type": "code",
   "execution_count": 1,
   "id": "cardiac-failing",
   "metadata": {},
   "outputs": [],
   "source": [
    "import keras"
   ]
  },
  {
   "cell_type": "code",
   "execution_count": 2,
   "id": "lovely-philip",
   "metadata": {},
   "outputs": [],
   "source": [
    "from keras.datasets import imdb"
   ]
  },
  {
   "cell_type": "code",
   "execution_count": 27,
   "id": "cultural-moldova",
   "metadata": {},
   "outputs": [],
   "source": [
    "(train_data, train_labels), (test_data, test_labels) = imdb.load_data(num_words=10_000)"
   ]
  },
  {
   "cell_type": "code",
   "execution_count": 21,
   "id": "cheap-newark",
   "metadata": {},
   "outputs": [],
   "source": [
    "import numpy as np\n",
    "\n",
    "def vectorize_sequences(sequences, dimension=10000):\n",
    "    results = np.zeros((len(sequences), dimension))\n",
    "    for i,sequence in enumerate(sequences):\n",
    "        results[i, sequence] = 1.\n",
    "    return results"
   ]
  },
  {
   "cell_type": "code",
   "execution_count": 25,
   "id": "directed-delta",
   "metadata": {},
   "outputs": [],
   "source": [
    "X_train = vectorize_sequences(train_data)\n",
    "X_test = vectorize_sequences(test_data)"
   ]
  },
  {
   "cell_type": "code",
   "execution_count": 32,
   "id": "centered-investor",
   "metadata": {},
   "outputs": [
    {
     "data": {
      "text/plain": [
       "(25000, 10000)"
      ]
     },
     "execution_count": 32,
     "metadata": {},
     "output_type": "execute_result"
    }
   ],
   "source": [
    "X_train.shape"
   ]
  },
  {
   "cell_type": "code",
   "execution_count": 31,
   "id": "compact-maple",
   "metadata": {},
   "outputs": [],
   "source": [
    "y_train = np.asarray(train_labels, dtype=np.float32)\n",
    "y_test  = np.asarray(test_labels, dtype=np.float32)"
   ]
  },
  {
   "cell_type": "code",
   "execution_count": 38,
   "id": "rental-titanium",
   "metadata": {},
   "outputs": [],
   "source": [
    "from keras import models\n",
    "from keras import layers\n",
    "\n",
    "model = models.Sequential()\n",
    "model.add(layers.Dense(16, activation='relu', input_shape=(10_000,)))\n",
    "model.add(layers.Dense(16,activation='relu'))\n",
    "model.add(layers.Dense(1, activation='sigmoid'))"
   ]
  },
  {
   "cell_type": "code",
   "execution_count": 39,
   "id": "qualified-northwest",
   "metadata": {},
   "outputs": [],
   "source": [
    "from keras import optimizers\n",
    "from keras import losses\n",
    "from keras import metrics\n",
    "\n",
    "model.compile(optimizer=optimizers.RMSprop(lr=0.001),\n",
    "             loss=losses.binary_crossentropy,\n",
    "             metrics=[metrics.binary_accuracy])"
   ]
  },
  {
   "cell_type": "code",
   "execution_count": 40,
   "id": "cosmetic-corner",
   "metadata": {},
   "outputs": [
    {
     "data": {
      "text/plain": [
       "(25000, 10000)"
      ]
     },
     "execution_count": 40,
     "metadata": {},
     "output_type": "execute_result"
    }
   ],
   "source": [
    "X_train.shape"
   ]
  },
  {
   "cell_type": "code",
   "execution_count": 43,
   "id": "matched-slide",
   "metadata": {},
   "outputs": [],
   "source": [
    "X_val = X_train[:10_000]\n",
    "partial_x_train =  X_train[10_000:]"
   ]
  },
  {
   "cell_type": "code",
   "execution_count": 42,
   "id": "professional-device",
   "metadata": {},
   "outputs": [
    {
     "data": {
      "text/plain": [
       "(10000, 10000)"
      ]
     },
     "execution_count": 42,
     "metadata": {},
     "output_type": "execute_result"
    }
   ],
   "source": [
    "X_val.shape"
   ]
  },
  {
   "cell_type": "code",
   "execution_count": 44,
   "id": "digital-killing",
   "metadata": {},
   "outputs": [],
   "source": [
    "y_val = y_train[:10_000]\n",
    "partial_y_train = y_train[10_000:]"
   ]
  },
  {
   "cell_type": "code",
   "execution_count": 46,
   "id": "welcome-polyester",
   "metadata": {},
   "outputs": [
    {
     "name": "stdout",
     "output_type": "stream",
     "text": [
      "Epoch 1/20\n",
      "30/30 [==============================] - 4s 129ms/step - loss: 0.5202 - binary_accuracy: 0.7978 - val_loss: 0.4026 - val_binary_accuracy: 0.8653\n",
      "Epoch 2/20\n",
      "30/30 [==============================] - 1s 41ms/step - loss: 0.3191 - binary_accuracy: 0.9019 - val_loss: 0.3119 - val_binary_accuracy: 0.8868\n",
      "Epoch 3/20\n",
      "30/30 [==============================] - 1s 47ms/step - loss: 0.2324 - binary_accuracy: 0.9245 - val_loss: 0.2841 - val_binary_accuracy: 0.8888\n",
      "Epoch 4/20\n",
      "30/30 [==============================] - 1s 46ms/step - loss: 0.1842 - binary_accuracy: 0.9405 - val_loss: 0.2745 - val_binary_accuracy: 0.8889\n",
      "Epoch 5/20\n",
      "30/30 [==============================] - 1s 38ms/step - loss: 0.1506 - binary_accuracy: 0.9521 - val_loss: 0.3011 - val_binary_accuracy: 0.8811\n",
      "Epoch 6/20\n",
      "30/30 [==============================] - 1s 34ms/step - loss: 0.1234 - binary_accuracy: 0.9622 - val_loss: 0.2915 - val_binary_accuracy: 0.8848\n",
      "Epoch 7/20\n",
      "30/30 [==============================] - 1s 33ms/step - loss: 0.1050 - binary_accuracy: 0.9682 - val_loss: 0.3000 - val_binary_accuracy: 0.8840\n",
      "Epoch 8/20\n",
      "30/30 [==============================] - 1s 35ms/step - loss: 0.0875 - binary_accuracy: 0.9753 - val_loss: 0.3294 - val_binary_accuracy: 0.8796\n",
      "Epoch 9/20\n",
      "30/30 [==============================] - 1s 40ms/step - loss: 0.0707 - binary_accuracy: 0.9817 - val_loss: 0.3413 - val_binary_accuracy: 0.8799\n",
      "Epoch 10/20\n",
      "30/30 [==============================] - 1s 35ms/step - loss: 0.0600 - binary_accuracy: 0.9851 - val_loss: 0.3643 - val_binary_accuracy: 0.8780\n",
      "Epoch 11/20\n",
      "30/30 [==============================] - 1s 34ms/step - loss: 0.0479 - binary_accuracy: 0.9888 - val_loss: 0.3939 - val_binary_accuracy: 0.8759\n",
      "Epoch 12/20\n",
      "30/30 [==============================] - 1s 42ms/step - loss: 0.0391 - binary_accuracy: 0.9922 - val_loss: 0.4217 - val_binary_accuracy: 0.8747\n",
      "Epoch 13/20\n",
      "30/30 [==============================] - 1s 35ms/step - loss: 0.0317 - binary_accuracy: 0.9938 - val_loss: 0.4488 - val_binary_accuracy: 0.8722\n",
      "Epoch 14/20\n",
      "30/30 [==============================] - 1s 40ms/step - loss: 0.0256 - binary_accuracy: 0.9956 - val_loss: 0.4866 - val_binary_accuracy: 0.8705\n",
      "Epoch 15/20\n",
      "30/30 [==============================] - 1s 36ms/step - loss: 0.0182 - binary_accuracy: 0.9979 - val_loss: 0.5848 - val_binary_accuracy: 0.8547\n",
      "Epoch 16/20\n",
      "30/30 [==============================] - 1s 35ms/step - loss: 0.0167 - binary_accuracy: 0.9977 - val_loss: 0.5519 - val_binary_accuracy: 0.8717\n",
      "Epoch 17/20\n",
      "30/30 [==============================] - 1s 34ms/step - loss: 0.0120 - binary_accuracy: 0.9986 - val_loss: 0.5841 - val_binary_accuracy: 0.8697\n",
      "Epoch 18/20\n",
      "30/30 [==============================] - 1s 40ms/step - loss: 0.0087 - binary_accuracy: 0.9995 - val_loss: 0.6212 - val_binary_accuracy: 0.8640\n",
      "Epoch 19/20\n",
      "30/30 [==============================] - 1s 38ms/step - loss: 0.0084 - binary_accuracy: 0.9991 - val_loss: 0.6475 - val_binary_accuracy: 0.8666\n",
      "Epoch 20/20\n",
      "30/30 [==============================] - 1s 34ms/step - loss: 0.0041 - binary_accuracy: 0.9999 - val_loss: 0.6796 - val_binary_accuracy: 0.8650\n"
     ]
    }
   ],
   "source": [
    "history = model.fit(partial_x_train,\n",
    "                   partial_y_train,\n",
    "                   epochs=20,\n",
    "                   batch_size=512,\n",
    "                   validation_data=(X_val, y_val))"
   ]
  },
  {
   "cell_type": "code",
   "execution_count": 47,
   "id": "emotional-exposure",
   "metadata": {},
   "outputs": [],
   "source": [
    "history_dict = history.history"
   ]
  },
  {
   "cell_type": "code",
   "execution_count": 48,
   "id": "academic-petroleum",
   "metadata": {},
   "outputs": [
    {
     "data": {
      "text/plain": [
       "dict_keys(['loss', 'binary_accuracy', 'val_loss', 'val_binary_accuracy'])"
      ]
     },
     "execution_count": 48,
     "metadata": {},
     "output_type": "execute_result"
    }
   ],
   "source": [
    "history_dict.keys()"
   ]
  },
  {
   "cell_type": "code",
   "execution_count": 1,
   "id": "fresh-luxembourg",
   "metadata": {},
   "outputs": [],
   "source": [
    "from keras.datasets import reuters"
   ]
  },
  {
   "cell_type": "code",
   "execution_count": 2,
   "id": "nonprofit-madagascar",
   "metadata": {},
   "outputs": [
    {
     "name": "stdout",
     "output_type": "stream",
     "text": [
      "Downloading data from https://storage.googleapis.com/tensorflow/tf-keras-datasets/reuters.npz\n",
      "2113536/2110848 [==============================] - 3s 2us/step\n"
     ]
    },
    {
     "name": "stderr",
     "output_type": "stream",
     "text": [
      "C:\\Users\\Hp\\anaconda3\\lib\\site-packages\\tensorflow\\python\\keras\\datasets\\reuters.py:148: VisibleDeprecationWarning: Creating an ndarray from ragged nested sequences (which is a list-or-tuple of lists-or-tuples-or ndarrays with different lengths or shapes) is deprecated. If you meant to do this, you must specify 'dtype=object' when creating the ndarray\n",
      "  x_train, y_train = np.array(xs[:idx]), np.array(labels[:idx])\n",
      "C:\\Users\\Hp\\anaconda3\\lib\\site-packages\\tensorflow\\python\\keras\\datasets\\reuters.py:149: VisibleDeprecationWarning: Creating an ndarray from ragged nested sequences (which is a list-or-tuple of lists-or-tuples-or ndarrays with different lengths or shapes) is deprecated. If you meant to do this, you must specify 'dtype=object' when creating the ndarray\n",
      "  x_test, y_test = np.array(xs[idx:]), np.array(labels[idx:])\n"
     ]
    }
   ],
   "source": [
    "(train_data, train_labels), (test_data, test_labels) = reuters.load_data(num_words=10_000)"
   ]
  },
  {
   "cell_type": "code",
   "execution_count": 4,
   "id": "finite-smoke",
   "metadata": {},
   "outputs": [
    {
     "data": {
      "text/plain": [
       "(8982,)"
      ]
     },
     "execution_count": 4,
     "metadata": {},
     "output_type": "execute_result"
    }
   ],
   "source": [
    "train_data.shape"
   ]
  },
  {
   "cell_type": "code",
   "execution_count": 29,
   "id": "answering-bradley",
   "metadata": {},
   "outputs": [],
   "source": [
    "import numpy as np\n",
    "\n",
    "def vectorize_sequence(sequence, dimension=10_000):\n",
    "    results = np.zeros((len(sequence),dimension))\n",
    "    for i, sequence in enumerate(sequence):\n",
    "        results[i,sequence] = 1\n",
    "    return results\n",
    "\n",
    "\n",
    "def to_one_hot(sequence, dimension=46):\n",
    "    results = np.zeros((len(sequence),dimension))\n",
    "    for i, sequence in enumerate(sequence):\n",
    "        results[i,sequence] = 1\n",
    "    return results"
   ]
  },
  {
   "cell_type": "code",
   "execution_count": 49,
   "id": "armed-encyclopedia",
   "metadata": {},
   "outputs": [],
   "source": [
    "x_train = vectorize_sequence(train_data)\n",
    "x_test = vectorize_sequence(test_data)\n",
    "one_hot_train_labels = to_one_hot(train_labels)\n",
    "one_hot_test_labels = to_one_hot(test_labels)"
   ]
  },
  {
   "cell_type": "code",
   "execution_count": 28,
   "id": "banner-currency",
   "metadata": {},
   "outputs": [
    {
     "data": {
      "text/plain": [
       "array([0., 1., 1., ..., 0., 0., 0.])"
      ]
     },
     "execution_count": 28,
     "metadata": {},
     "output_type": "execute_result"
    }
   ],
   "source": [
    "x_train[0]"
   ]
  },
  {
   "cell_type": "code",
   "execution_count": 37,
   "id": "constitutional-speech",
   "metadata": {},
   "outputs": [],
   "source": [
    "from keras import models\n",
    "from keras import layers\n",
    "\n",
    "model = models.Sequential()\n",
    "model.add(layers.Dense(64, activation='relu', input_shape=(10_000,)))\n",
    "model.add(layers.Dense(64, activation='relu'))\n",
    "model.add(layers.Dense(46, activation='softmax'))"
   ]
  },
  {
   "cell_type": "code",
   "execution_count": 43,
   "id": "attractive-arabic",
   "metadata": {},
   "outputs": [],
   "source": [
    "model.compile(optimizer='rmsprop',\n",
    "             loss='categorical_crossentropy',\n",
    "             metrics=['accuracy'])"
   ]
  },
  {
   "cell_type": "code",
   "execution_count": 41,
   "id": "executive-partition",
   "metadata": {},
   "outputs": [],
   "source": [
    "x_val = x_train[:10_00]\n",
    "partial_x_train = x_train[1000:]\n",
    "\n",
    "y_val = one_hot_train_labels[:1000]\n",
    "partial_y_train = one_hot_train_labels[1000:]"
   ]
  },
  {
   "cell_type": "code",
   "execution_count": 59,
   "id": "emotional-study",
   "metadata": {},
   "outputs": [
    {
     "name": "stdout",
     "output_type": "stream",
     "text": [
      "Epoch 1/9\n",
      "16/16 [==============================] - 1s 44ms/step - loss: 0.0880 - accuracy: 0.9578 - val_loss: 1.3770 - val_accuracy: 0.7860\n",
      "Epoch 2/9\n",
      "16/16 [==============================] - 1s 43ms/step - loss: 0.0875 - accuracy: 0.9577 - val_loss: 1.3588 - val_accuracy: 0.7840\n",
      "Epoch 3/9\n",
      "16/16 [==============================] - 1s 47ms/step - loss: 0.0845 - accuracy: 0.9607 - val_loss: 1.3439 - val_accuracy: 0.7940\n",
      "Epoch 4/9\n",
      "16/16 [==============================] - 1s 53ms/step - loss: 0.0840 - accuracy: 0.9592 - val_loss: 1.3563 - val_accuracy: 0.7880\n",
      "Epoch 5/9\n",
      "16/16 [==============================] - 1s 39ms/step - loss: 0.0854 - accuracy: 0.9580 - val_loss: 1.3945 - val_accuracy: 0.7930\n",
      "Epoch 6/9\n",
      "16/16 [==============================] - 1s 36ms/step - loss: 0.0819 - accuracy: 0.9599 - val_loss: 1.4332 - val_accuracy: 0.7890\n",
      "Epoch 7/9\n",
      "16/16 [==============================] - 1s 34ms/step - loss: 0.0843 - accuracy: 0.9597 - val_loss: 1.3283 - val_accuracy: 0.7970\n",
      "Epoch 8/9\n",
      "16/16 [==============================] - 1s 33ms/step - loss: 0.0829 - accuracy: 0.9589 - val_loss: 1.3865 - val_accuracy: 0.7870\n",
      "Epoch 9/9\n",
      "16/16 [==============================] - 1s 33ms/step - loss: 0.0824 - accuracy: 0.9592 - val_loss: 1.3883 - val_accuracy: 0.7800\n"
     ]
    }
   ],
   "source": [
    "history = model.fit(partial_x_train,\n",
    "                   partial_y_train,\n",
    "                   epochs=9,\n",
    "                   batch_size=512,\n",
    "                   validation_data=(x_val, y_val))"
   ]
  },
  {
   "cell_type": "code",
   "execution_count": 60,
   "id": "lucky-cooking",
   "metadata": {},
   "outputs": [
    {
     "name": "stdout",
     "output_type": "stream",
     "text": [
      "71/71 [==============================] - 0s 3ms/step - loss: 1.6306 - accuracy: 0.7756\n"
     ]
    }
   ],
   "source": [
    "results = model.evaluate(x_test, one_hot_test_labels)"
   ]
  },
  {
   "cell_type": "code",
   "execution_count": 61,
   "id": "female-crash",
   "metadata": {},
   "outputs": [
    {
     "data": {
      "text/plain": [
       "[1.6305590867996216, 0.7756010890007019]"
      ]
     },
     "execution_count": 61,
     "metadata": {},
     "output_type": "execute_result"
    }
   ],
   "source": [
    "results"
   ]
  },
  {
   "cell_type": "code",
   "execution_count": 62,
   "id": "higher-interference",
   "metadata": {},
   "outputs": [],
   "source": [
    "predictions = model.predict(x_test)"
   ]
  },
  {
   "cell_type": "code",
   "execution_count": 63,
   "id": "greek-centre",
   "metadata": {},
   "outputs": [
    {
     "data": {
      "text/plain": [
       "3"
      ]
     },
     "execution_count": 63,
     "metadata": {},
     "output_type": "execute_result"
    }
   ],
   "source": [
    "np.argmax(predictions[0])"
   ]
  },
  {
   "cell_type": "code",
   "execution_count": 2,
   "id": "pressed-acceptance",
   "metadata": {},
   "outputs": [
    {
     "name": "stdout",
     "output_type": "stream",
     "text": [
      "Downloading data from https://storage.googleapis.com/tensorflow/tf-keras-datasets/boston_housing.npz\n",
      "57344/57026 [==============================] - 0s 5us/step\n"
     ]
    }
   ],
   "source": [
    "from keras.datasets import boston_housing\n",
    "\n",
    "(train_data, train_targets), (test_data, test_targets) = boston_housing.load_data()"
   ]
  },
  {
   "cell_type": "code",
   "execution_count": 3,
   "id": "acknowledged-final",
   "metadata": {},
   "outputs": [
    {
     "data": {
      "text/plain": [
       "(404, 13)"
      ]
     },
     "execution_count": 3,
     "metadata": {},
     "output_type": "execute_result"
    }
   ],
   "source": [
    "train_data.shape"
   ]
  },
  {
   "cell_type": "code",
   "execution_count": 6,
   "id": "traditional-writer",
   "metadata": {},
   "outputs": [],
   "source": [
    "mean = train_data.mean(axis=0)\n",
    "train_data -= mean\n",
    "\n",
    "std = train_data.std(axis=0)\n",
    "train_data /= std\n",
    "\n",
    "test_data -= mean\n",
    "test_data/= mean"
   ]
  },
  {
   "cell_type": "code",
   "execution_count": 15,
   "id": "continental-replication",
   "metadata": {},
   "outputs": [],
   "source": [
    "from keras import models\n",
    "from keras import layers\n",
    "\n",
    "def build_model():\n",
    "    model = models.Sequential()\n",
    "    model.add(layers.Dense(64, activation=\"relu\", input_shape=(train_data.shape[1],)))\n",
    "    model.add(layers.Dense(64, activation=\"relu\"))\n",
    "    model.add(layers.Dense(1))\n",
    "    model.compile(optimizer=\"rmsprop\",loss=\"mae\",metrics=[\"mae\"])\n",
    "    return model"
   ]
  },
  {
   "cell_type": "code",
   "execution_count": 21,
   "id": "interracial-harassment",
   "metadata": {},
   "outputs": [
    {
     "name": "stdout",
     "output_type": "stream",
     "text": [
      "processing fold # 0\n"
     ]
    },
    {
     "ename": "KeyError",
     "evalue": "'val_mean_absolute_error'",
     "output_type": "error",
     "traceback": [
      "\u001b[1;31m---------------------------------------------------------------------------\u001b[0m",
      "\u001b[1;31mKeyError\u001b[0m                                  Traceback (most recent call last)",
      "\u001b[1;32m<ipython-input-21-fdc6b14dc099>\u001b[0m in \u001b[0;36m<module>\u001b[1;34m\u001b[0m\n\u001b[0;32m     20\u001b[0m     \u001b[0mmodel\u001b[0m \u001b[1;33m=\u001b[0m \u001b[0mbuild_model\u001b[0m\u001b[1;33m(\u001b[0m\u001b[1;33m)\u001b[0m\u001b[1;33m\u001b[0m\u001b[1;33m\u001b[0m\u001b[0m\n\u001b[0;32m     21\u001b[0m     \u001b[0mhistory\u001b[0m \u001b[1;33m=\u001b[0m \u001b[0mmodel\u001b[0m\u001b[1;33m.\u001b[0m\u001b[0mfit\u001b[0m\u001b[1;33m(\u001b[0m\u001b[0mpartial_train_data\u001b[0m\u001b[1;33m,\u001b[0m \u001b[0mpartial_train_targets\u001b[0m\u001b[1;33m,\u001b[0m \u001b[0mepochs\u001b[0m\u001b[1;33m=\u001b[0m\u001b[0mnum_epochs\u001b[0m\u001b[1;33m,\u001b[0m\u001b[0mbatch_size\u001b[0m\u001b[1;33m=\u001b[0m\u001b[1;36m1\u001b[0m\u001b[1;33m,\u001b[0m \u001b[0mverbose\u001b[0m\u001b[1;33m=\u001b[0m\u001b[1;36m0\u001b[0m\u001b[1;33m)\u001b[0m\u001b[1;33m\u001b[0m\u001b[1;33m\u001b[0m\u001b[0m\n\u001b[1;32m---> 22\u001b[1;33m     \u001b[0mmae_history\u001b[0m \u001b[1;33m=\u001b[0m \u001b[0mhistory\u001b[0m\u001b[1;33m.\u001b[0m\u001b[0mhistory\u001b[0m\u001b[1;33m[\u001b[0m\u001b[1;34m\"val_mean_absolute_error\"\u001b[0m\u001b[1;33m]\u001b[0m\u001b[1;33m\u001b[0m\u001b[1;33m\u001b[0m\u001b[0m\n\u001b[0m\u001b[0;32m     23\u001b[0m     \u001b[0mall_mae_history\u001b[0m\u001b[1;33m.\u001b[0m\u001b[0mappend\u001b[0m\u001b[1;33m(\u001b[0m\u001b[0mmae_history\u001b[0m\u001b[1;33m)\u001b[0m\u001b[1;33m\u001b[0m\u001b[1;33m\u001b[0m\u001b[0m\n\u001b[0;32m     24\u001b[0m \u001b[1;33m\u001b[0m\u001b[0m\n",
      "\u001b[1;31mKeyError\u001b[0m: 'val_mean_absolute_error'"
     ]
    }
   ],
   "source": [
    "import numpy as np\n",
    "\n",
    "k = 4\n",
    "num_val_samples = len(train_data)//k\n",
    "num_epochs = 500\n",
    "all_mae_history = []\n",
    "\n",
    "for i in range(k):\n",
    "    print(\"processing fold #\", i)\n",
    "    val_data = train_data[i * num_val_samples: (i + 1) * num_val_samples]\n",
    "    val_targets = train_targets[i * num_val_samples: (i + 1) * num_val_samples]\n",
    "    \n",
    "    partial_train_data = np.concatenate(\n",
    "                            [train_data[:i * num_val_samples],\n",
    "                            train_data[(i+1) * num_val_samples:]], axis=0)\n",
    "    partial_train_targets = np.concatenate(\n",
    "                            [train_targets[:i * num_val_samples],\n",
    "                            train_targets[(i+1) * num_val_samples:]], axis=0)\n",
    "    \n",
    "    model = build_model()\n",
    "    history = model.fit(partial_train_data, partial_train_targets, epochs=num_epochs,batch_size=1, verbose=0)\n",
    "    mae_history = history.history[\"val_mean_absolute_error\"]\n",
    "    all_mae_history.append(mae_history)\n",
    "    \n",
    "print(mae_history)\n",
    "print(all_mae_history)"
   ]
  },
  {
   "cell_type": "code",
   "execution_count": 18,
   "id": "color-topic",
   "metadata": {},
   "outputs": [
    {
     "data": {
      "text/plain": [
       "[2.1146621704101562, 2.4655144214630127, 2.3417084217071533, 2.473087787628174]"
      ]
     },
     "execution_count": 18,
     "metadata": {},
     "output_type": "execute_result"
    }
   ],
   "source": []
  },
  {
   "cell_type": "code",
   "execution_count": 19,
   "id": "biological-identification",
   "metadata": {},
   "outputs": [
    {
     "data": {
      "text/plain": [
       "2.348743200302124"
      ]
     },
     "execution_count": 19,
     "metadata": {},
     "output_type": "execute_result"
    }
   ],
   "source": []
  },
  {
   "cell_type": "code",
   "execution_count": null,
   "id": "fallen-exclusive",
   "metadata": {},
   "outputs": [],
   "source": []
  }
 ],
 "metadata": {
  "kernelspec": {
   "display_name": "Python 3",
   "language": "python",
   "name": "python3"
  },
  "language_info": {
   "codemirror_mode": {
    "name": "ipython",
    "version": 3
   },
   "file_extension": ".py",
   "mimetype": "text/x-python",
   "name": "python",
   "nbconvert_exporter": "python",
   "pygments_lexer": "ipython3",
   "version": "3.8.3"
  }
 },
 "nbformat": 4,
 "nbformat_minor": 5
}
